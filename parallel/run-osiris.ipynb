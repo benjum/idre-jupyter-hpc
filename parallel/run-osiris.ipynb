{
 "cells": [
  {
   "cell_type": "markdown",
   "metadata": {
    "deletable": true,
    "editable": true
   },
   "source": [
    "# Running MPI Jobs from Notebook"
   ]
  },
  {
   "cell_type": "code",
   "execution_count": null,
   "metadata": {
    "collapsed": true,
    "deletable": true,
    "editable": true
   },
   "outputs": [],
   "source": []
  },
  {
   "cell_type": "code",
   "execution_count": null,
   "metadata": {
    "collapsed": false,
    "deletable": true,
    "editable": true
   },
   "outputs": [],
   "source": []
  },
  {
   "cell_type": "code",
   "execution_count": null,
   "metadata": {
    "collapsed": false,
    "deletable": true,
    "editable": true
   },
   "outputs": [],
   "source": []
  },
  {
   "cell_type": "code",
   "execution_count": null,
   "metadata": {
    "collapsed": false,
    "deletable": true,
    "editable": true
   },
   "outputs": [],
   "source": []
  },
  {
   "cell_type": "code",
   "execution_count": null,
   "metadata": {
    "collapsed": false,
    "deletable": true,
    "editable": true
   },
   "outputs": [],
   "source": []
  },
  {
   "cell_type": "code",
   "execution_count": null,
   "metadata": {
    "collapsed": false,
    "deletable": true,
    "editable": true
   },
   "outputs": [],
   "source": [
    "import os\n",
    "import subprocess\n",
    "import shutil\n",
    "import IPython\n",
    "\n",
    "def execute(cmd,basedir):\n",
    "\n",
    "    popen = subprocess.Popen(cmd, stdout=subprocess.PIPE, universal_newlines=True)\n",
    "    for stdout_line in iter(popen.stdout.readline, \"\"):\n",
    "        yield stdout_line\n",
    "    popen.stdout.close()\n",
    "    return_code = popen.wait()\n",
    "    if return_code:\n",
    "        os.chdir(basedir)\n",
    "        raise subprocess.CalledProcessError(return_code, cmd)\n",
    "\n",
    "def runosiris_2d(rundir='',inputfile='osiris-input.txt',numproc=1):\n",
    "\n",
    "    basedir = os.getcwd()\n",
    "    workdir = basedir + '/' + rundir\n",
    "    print(workdir)\n",
    "\n",
    "    # run osiris-2D.e executable\n",
    "    if(not os.path.isdir(workdir)):\n",
    "       os.mkdir(workdir)\n",
    "    if(rundir != ''):\n",
    "        shutil.copyfile('osiris-2D.e',workdir+'/osiris-2D.e')\n",
    "        shutil.copyfile(inputfile,workdir+'/osiris-input.txt')\n",
    "\n",
    "    os.chdir(workdir)\n",
    "    os.chmod('./osiris-2D.e',0o755)\n",
    "    \n",
    "    for path in execute(['mpiexec.hydra','-n',str(numproc),'./osiris-2D.e','osiris-input.txt'],basedir=basedir):\n",
    "        IPython.display.clear_output(wait=True)\n",
    "        print(path, end='')\n",
    "\n",
    "    IPython.display.clear_output(wait=True)\n",
    "    print('runosiris completed normally')\n",
    "\n",
    "    os.chdir(basedir)\n",
    "    \n",
    "    return\n"
   ]
  },
  {
   "cell_type": "code",
   "execution_count": null,
   "metadata": {
    "collapsed": false,
    "deletable": true,
    "editable": true
   },
   "outputs": [],
   "source": []
  },
  {
   "cell_type": "code",
   "execution_count": null,
   "metadata": {
    "collapsed": false,
    "deletable": true,
    "editable": true
   },
   "outputs": [],
   "source": []
  },
  {
   "cell_type": "code",
   "execution_count": null,
   "metadata": {
    "collapsed": true
   },
   "outputs": [],
   "source": []
  }
 ],
 "metadata": {
  "kernelspec": {
   "display_name": "Python 3",
   "language": "python",
   "name": "python3"
  },
  "language_info": {
   "codemirror_mode": {
    "name": "ipython",
    "version": 3
   },
   "file_extension": ".py",
   "mimetype": "text/x-python",
   "name": "python",
   "nbconvert_exporter": "python",
   "pygments_lexer": "ipython3",
   "version": "3.4.3"
  }
 },
 "nbformat": 4,
 "nbformat_minor": 2
}
