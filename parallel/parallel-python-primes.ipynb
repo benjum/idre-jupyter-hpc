{
 "cells": [
  {
   "cell_type": "code",
   "execution_count": null,
   "metadata": {
    "collapsed": false,
    "deletable": true,
    "editable": true
   },
   "outputs": [],
   "source": [
    "import math, sys, time\n",
    "import pp\n",
    "\n",
    "print \"\"\"Usage: run_sum_primes(ncpus=[ncpus])\n",
    "    ncpus - the number of workers to run in parallel, \n",
    "    if omitted it will be set to the number of processors in the system\n",
    "\"\"\"\n",
    "\n",
    "def isprime(n):\n",
    "    \"\"\"Returns True if n is prime and False otherwise\"\"\"\n",
    "    if not isinstance(n, int):\n",
    "        raise TypeError(\"argument passed to is_prime is not of 'int' type\")\n",
    "    if n < 2:\n",
    "        return False\n",
    "    if n == 2:\n",
    "        return True\n",
    "    max = int(math.ceil(math.sqrt(n)))\n",
    "    i = 2\n",
    "    while i <= max:\n",
    "        if n % i == 0:\n",
    "            return False\n",
    "        i += 1\n",
    "    return True\n",
    "\n",
    "def sum_primes(n):\n",
    "    \"\"\"Calculates sum of all primes below given integer n\"\"\"\n",
    "    return sum([x for x in xrange(2,n) if isprime(x)])\n",
    "\n",
    "def run_sum_primes(ncpus=-1):\n",
    "\n",
    "    # tuple of all parallel python servers to connect with\n",
    "    ppservers = ()\n",
    "    #ppservers = (\"10.0.0.1\",)\n",
    "\n",
    "    if ncpus != -1:\n",
    "        job_server = pp.Server(ncpus, ppservers=ppservers)\n",
    "    else:\n",
    "        # Creates jobserver with automatically detected number of workers\n",
    "        job_server = pp.Server(ppservers=ppservers)\n",
    "    # ncpus = 4\n",
    "    # job_server = pp.Server(ncpus, ppservers=ppservers)\n",
    "    # job_server = pp.Server(1,ppservers=ppservers)\n",
    "\n",
    "    print \"Starting pp with\", job_server.get_ncpus(), \"workers\"\n",
    "\n",
    "    # Submit a job of calulating sum_primes(100) for execution. \n",
    "    # sum_primes - the function\n",
    "    # (100,) - tuple with arguments for sum_primes\n",
    "    # (isprime,) - tuple with functions on which function sum_primes depends\n",
    "    # (\"math\",) - tuple with module names which must be imported before sum_primes execution\n",
    "    # Execution starts as soon as one of the workers will become available\n",
    "    job1 = job_server.submit(sum_primes, (100,), (isprime,), (\"math\",))\n",
    "\n",
    "    # Retrieves the result calculated by job1\n",
    "    # The value of job1() is the same as sum_primes(100)\n",
    "    # If the job has not been finished yet, execution will wait here until result is available\n",
    "    result = job1()\n",
    "\n",
    "    print \"Sum of primes below 100 is\", result\n",
    "\n",
    "    start_time = time.time()\n",
    "\n",
    "    # The following submits 8 jobs and then retrieves the results\n",
    "    inputs = (100000, 100100, 100200, 100300, 100400, 100500, 100600, 100700)\n",
    "    jobs = [(input, job_server.submit(sum_primes,(input,), (isprime,), (\"math\",))) for input in inputs]\n",
    "    for input, job in jobs:\n",
    "        print \"Sum of primes below\", input, \"is\", job()\n",
    "\n",
    "    print \"Time elapsed: \", time.time() - start_time, \"s\"\n",
    "    job_server.print_stats()"
   ]
  },
  {
   "cell_type": "code",
   "execution_count": null,
   "metadata": {
    "collapsed": false,
    "deletable": true,
    "editable": true
   },
   "outputs": [],
   "source": [
    "run_sum_primes(ncpus=1)"
   ]
  },
  {
   "cell_type": "code",
   "execution_count": null,
   "metadata": {
    "collapsed": false,
    "deletable": true,
    "editable": true
   },
   "outputs": [],
   "source": [
    "run_sum_primes(ncpus=2)"
   ]
  },
  {
   "cell_type": "markdown",
   "metadata": {},
   "source": [
    "# Reference:\n",
    "\n",
    "* [Tools for Parallel Processing and Multiprocessing in Python](https://wiki.python.org/moin/ParallelProcessing)"
   ]
  }
 ],
 "metadata": {
  "kernelspec": {
   "display_name": "Python 2",
   "language": "python",
   "name": "python2"
  },
  "language_info": {
   "codemirror_mode": {
    "name": "ipython",
    "version": 2
   },
   "file_extension": ".py",
   "mimetype": "text/x-python",
   "name": "python",
   "nbconvert_exporter": "python",
   "pygments_lexer": "ipython2",
   "version": "2.7.13"
  }
 },
 "nbformat": 4,
 "nbformat_minor": 2
}
