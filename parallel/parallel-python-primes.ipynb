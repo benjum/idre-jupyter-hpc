{
 "cells": [
  {
   "cell_type": "code",
   "execution_count": 6,
   "metadata": {
    "collapsed": false,
    "deletable": true,
    "editable": true
   },
   "outputs": [
    {
     "name": "stdout",
     "output_type": "stream",
     "text": [
      "Usage: sum_primes(ncpus=[ncpus])\n",
      "    ncpus - the number of workers to run in parallel, \n",
      "    if omitted it will be set to the number of processors in the system\n",
      "\n"
     ]
    }
   ],
   "source": [
    "import math, sys, time\n",
    "import pp\n",
    "\n",
    "def isprime(n):\n",
    "    \"\"\"Returns True if n is prime and False otherwise\"\"\"\n",
    "    if not isinstance(n, int):\n",
    "        raise TypeError(\"argument passed to is_prime is not of 'int' type\")\n",
    "    if n < 2:\n",
    "        return False\n",
    "    if n == 2:\n",
    "        return True\n",
    "    max = int(math.ceil(math.sqrt(n)))\n",
    "    i = 2\n",
    "    while i <= max:\n",
    "        if n % i == 0:\n",
    "            return False\n",
    "        i += 1\n",
    "    return True\n",
    "\n",
    "def sum_primes(n):\n",
    "    \"\"\"Calculates sum of all primes below given integer n\"\"\"\n",
    "    return sum([x for x in xrange(2,n) if isprime(x)])\n",
    "\n",
    "print \"\"\"Usage: sum_primes(ncpus=[ncpus])\n",
    "    ncpus - the number of workers to run in parallel, \n",
    "    if omitted it will be set to the number of processors in the system\n",
    "\"\"\"\n",
    "\n",
    "def run_sum_primes(ncpus=-1):\n",
    "\n",
    "    # tuple of all parallel python servers to connect with\n",
    "    ppservers = ()\n",
    "    #ppservers = (\"10.0.0.1\",)\n",
    "\n",
    "    if ncpus != -1:\n",
    "        job_server = pp.Server(ncpus, ppservers=ppservers)\n",
    "    else:\n",
    "        # Creates jobserver with automatically detected number of workers\n",
    "        job_server = pp.Server(ppservers=ppservers)\n",
    "    # ncpus = 4\n",
    "    # job_server = pp.Server(ncpus, ppservers=ppservers)\n",
    "    # job_server = pp.Server(1,ppservers=ppservers)\n",
    "\n",
    "    print \"Starting pp with\", job_server.get_ncpus(), \"workers\"\n",
    "\n",
    "    # Submit a job of calulating sum_primes(100) for execution. \n",
    "    # sum_primes - the function\n",
    "    # (100,) - tuple with arguments for sum_primes\n",
    "    # (isprime,) - tuple with functions on which function sum_primes depends\n",
    "    # (\"math\",) - tuple with module names which must be imported before sum_primes execution\n",
    "    # Execution starts as soon as one of the workers will become available\n",
    "    job1 = job_server.submit(sum_primes, (100,), (isprime,), (\"math\",))\n",
    "\n",
    "    # Retrieves the result calculated by job1\n",
    "    # The value of job1() is the same as sum_primes(100)\n",
    "    # If the job has not been finished yet, execution will wait here until result is available\n",
    "    result = job1()\n",
    "\n",
    "    print \"Sum of primes below 100 is\", result\n",
    "\n",
    "    start_time = time.time()\n",
    "\n",
    "    # The following submits 8 jobs and then retrieves the results\n",
    "    inputs = (100000, 100100, 100200, 100300, 100400, 100500, 100600, 100700)\n",
    "    jobs = [(input, job_server.submit(sum_primes,(input,), (isprime,), (\"math\",))) for input in inputs]\n",
    "    for input, job in jobs:\n",
    "        print \"Sum of primes below\", input, \"is\", job()\n",
    "\n",
    "    print \"Time elapsed: \", time.time() - start_time, \"s\"\n",
    "    job_server.print_stats()"
   ]
  },
  {
   "cell_type": "code",
   "execution_count": 7,
   "metadata": {
    "collapsed": false,
    "deletable": true,
    "editable": true
   },
   "outputs": [
    {
     "name": "stdout",
     "output_type": "stream",
     "text": [
      "Starting pp with 1 workers\n",
      "Sum of primes below 100 is 1060\n",
      "Sum of primes below 100000 is 454396537\n",
      "Sum of primes below 100100 is 454996777\n",
      "Sum of primes below 100200 is 455898156\n",
      "Sum of primes below 100300 is 456700218\n",
      "Sum of primes below 100400 is 457603451\n",
      "Sum of primes below 100500 is 458407033\n",
      "Sum of primes below 100600 is 459412387\n",
      "Sum of primes below 100700 is 460217613\n",
      "Time elapsed:  2.54359793663 s\n",
      "Job execution statistics:\n",
      " job count | % of all jobs | job time sum | time per job | job server\n",
      "         9 |        100.00 |       2.5424 |     0.282487 | local\n",
      "Time elapsed since server creation 2.54799604416\n",
      "0 active tasks, 1 cores\n",
      "\n"
     ]
    }
   ],
   "source": [
    "run_sum_primes(ncpus=1)"
   ]
  },
  {
   "cell_type": "code",
   "execution_count": 8,
   "metadata": {
    "collapsed": false,
    "deletable": true,
    "editable": true
   },
   "outputs": [
    {
     "name": "stdout",
     "output_type": "stream",
     "text": [
      "Starting pp with 2 workers\n",
      "Sum of primes below 100 is 1060\n",
      "Sum of primes below 100000 is 454396537\n",
      "Sum of primes below 100100 is 454996777\n",
      "Sum of primes below 100200 is 455898156\n",
      "Sum of primes below 100300 is 456700218\n",
      "Sum of primes below 100400 is 457603451\n",
      "Sum of primes below 100500 is 458407033\n",
      "Sum of primes below 100600 is 459412387\n",
      "Sum of primes below 100700 is 460217613\n",
      "Time elapsed:  1.28876304626 s\n",
      "Job execution statistics:\n",
      " job count | % of all jobs | job time sum | time per job | job server\n",
      "         9 |        100.00 |       2.5551 |     0.283898 | local\n",
      "Time elapsed since server creation 1.29384207726\n",
      "0 active tasks, 2 cores\n",
      "\n"
     ]
    }
   ],
   "source": [
    "run_sum_primes(ncpus=2)"
   ]
  }
 ],
 "metadata": {
  "kernelspec": {
   "display_name": "Python 2",
   "language": "python",
   "name": "python2"
  },
  "language_info": {
   "codemirror_mode": {
    "name": "ipython",
    "version": 2
   },
   "file_extension": ".py",
   "mimetype": "text/x-python",
   "name": "python",
   "nbconvert_exporter": "python",
   "pygments_lexer": "ipython2",
   "version": "2.7.13"
  }
 },
 "nbformat": 4,
 "nbformat_minor": 2
}
