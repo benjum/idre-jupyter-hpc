{
 "cells": [
  {
   "cell_type": "code",
   "execution_count": 1,
   "metadata": {},
   "outputs": [],
   "source": [
    "import os\n",
    "import ipyparallel as ipp\n",
    "\n",
    "rc = ipp.Client()\n",
    "ar = rc[:].apply_async(os.getpid)\n",
    "pid_map = ar.get_dict()"
   ]
  },
  {
   "cell_type": "code",
   "execution_count": 2,
   "metadata": {},
   "outputs": [
    {
     "name": "stdout",
     "output_type": "stream",
     "text": [
      "backcall==0.1.0\r\n",
      "bleach==3.0.2\r\n",
      "cycler==0.10.0\r\n",
      "Cython==0.29\r\n",
      "decorator==4.3.0\r\n",
      "defusedxml==0.5.0\r\n",
      "entrypoints==0.2.3\r\n",
      "ipykernel==5.1.0\r\n",
      "ipyparallel==6.2.3\r\n",
      "ipython==7.0.1\r\n",
      "ipython-genutils==0.2.0\r\n",
      "ipywidgets==7.4.2\r\n",
      "jedi==0.13.1\r\n",
      "Jinja2==2.10\r\n",
      "jsonschema==2.6.0\r\n",
      "jupyter==1.0.0\r\n",
      "jupyter-client==5.2.3\r\n",
      "jupyter-console==6.0.0\r\n",
      "jupyter-core==4.4.0\r\n",
      "jupyterlab==0.35.2\r\n",
      "jupyterlab-server==0.2.0\r\n",
      "kiwisolver==1.0.1\r\n",
      "MarkupSafe==1.0\r\n",
      "matplotlib==3.0.0\r\n",
      "mistune==0.8.4\r\n",
      "mpmath==1.0.0\r\n",
      "nbconvert==5.4.0\r\n",
      "nbformat==4.4.0\r\n",
      "notebook==5.7.0\r\n",
      "numpy==1.15.2\r\n",
      "pandas==0.23.4\r\n",
      "pandocfilters==1.4.2\r\n",
      "parso==0.3.1\r\n",
      "pexpect==4.6.0\r\n",
      "pickleshare==0.7.5\r\n",
      "prometheus-client==0.4.2\r\n",
      "prompt-toolkit==2.0.6\r\n",
      "ptyprocess==0.6.0\r\n",
      "Pygments==2.2.0\r\n",
      "pyparsing==2.2.2\r\n",
      "python-dateutil==2.7.3\r\n",
      "pytz==2018.5\r\n",
      "pyzmq==17.1.2\r\n",
      "qtconsole==4.4.2\r\n",
      "scipy==1.1.0\r\n",
      "Send2Trash==1.5.0\r\n",
      "simplegeneric==0.8.1\r\n",
      "six==1.11.0\r\n",
      "sympy==1.3\r\n",
      "terminado==0.8.1\r\n",
      "testpath==0.4.2\r\n",
      "tornado==5.1.1\r\n",
      "traitlets==4.3.2\r\n",
      "virtualenv==16.0.0\r\n",
      "wcwidth==0.1.7\r\n",
      "webencodings==0.5.1\r\n",
      "widgetsnbextension==3.4.2\r\n"
     ]
    }
   ],
   "source": []
  },
  {
   "cell_type": "code",
   "execution_count": null,
   "metadata": {},
   "outputs": [],
   "source": []
  }
 ],
 "metadata": {
  "kernelspec": {
   "display_name": "Python 3",
   "language": "python",
   "name": "python3"
  },
  "language_info": {
   "codemirror_mode": {
    "name": "ipython",
    "version": 3
   },
   "file_extension": ".py",
   "mimetype": "text/x-python",
   "name": "python",
   "nbconvert_exporter": "python",
   "pygments_lexer": "ipython3",
   "version": "3.7.0"
  }
 },
 "nbformat": 4,
 "nbformat_minor": 2
}
