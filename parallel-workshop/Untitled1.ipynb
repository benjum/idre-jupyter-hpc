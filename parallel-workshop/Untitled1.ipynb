{
 "cells": [
  {
   "cell_type": "markdown",
   "metadata": {
    "deletable": true,
    "editable": true
   },
   "source": [
    "# MPI Tutorial"
   ]
  },
  {
   "cell_type": "code",
   "execution_count": 1,
   "metadata": {
    "collapsed": false,
    "deletable": true,
    "editable": true
   },
   "outputs": [
    {
     "name": "stdout",
     "output_type": "stream",
     "text": [
      "/bin/sh: ./run.py: No such file or directory\r\n"
     ]
    }
   ],
   "source": [
    "!./run.py mpi_hello_world"
   ]
  },
  {
   "cell_type": "code",
   "execution_count": 2,
   "metadata": {
    "collapsed": false,
    "deletable": true,
    "editable": true
   },
   "outputs": [
    {
     "name": "stdout",
     "output_type": "stream",
     "text": [
      "/u/home/staff1/bwinjum/a-workshop\r\n"
     ]
    }
   ],
   "source": [
    "!pwd"
   ]
  },
  {
   "cell_type": "code",
   "execution_count": 3,
   "metadata": {
    "collapsed": false,
    "deletable": true,
    "editable": true
   },
   "outputs": [
    {
     "name": "stdout",
     "output_type": "stream",
     "text": [
      "mpitutorial  Untitled1.ipynb  Untitled.ipynb\r\n"
     ]
    }
   ],
   "source": [
    "!ls"
   ]
  },
  {
   "cell_type": "code",
   "execution_count": 4,
   "metadata": {
    "collapsed": true,
    "deletable": true,
    "editable": true
   },
   "outputs": [],
   "source": [
    "!cd mpitutorial"
   ]
  },
  {
   "cell_type": "code",
   "execution_count": 5,
   "metadata": {
    "collapsed": false,
    "deletable": true,
    "editable": true
   },
   "outputs": [
    {
     "name": "stdout",
     "output_type": "stream",
     "text": [
      "/u/home/staff1/bwinjum/a-workshop\r\n"
     ]
    }
   ],
   "source": [
    "!pwd"
   ]
  },
  {
   "cell_type": "code",
   "execution_count": 6,
   "metadata": {
    "collapsed": false,
    "deletable": true,
    "editable": true
   },
   "outputs": [
    {
     "data": {
      "text/plain": [
       "'/u/home/staff1/bwinjum/a-workshop'"
      ]
     },
     "execution_count": 6,
     "metadata": {},
     "output_type": "execute_result"
    }
   ],
   "source": [
    "%pwd"
   ]
  },
  {
   "cell_type": "code",
   "execution_count": 7,
   "metadata": {
    "collapsed": false,
    "deletable": true,
    "editable": true
   },
   "outputs": [
    {
     "name": "stdout",
     "output_type": "stream",
     "text": [
      "\u001b[0m\u001b[38;5;27mmpitutorial\u001b[0m/  Untitled1.ipynb  Untitled.ipynb\r\n",
      "\u001b[m"
     ]
    }
   ],
   "source": [
    "%ls"
   ]
  },
  {
   "cell_type": "code",
   "execution_count": 2,
   "metadata": {
    "collapsed": false,
    "deletable": true,
    "editable": true
   },
   "outputs": [
    {
     "name": "stdout",
     "output_type": "stream",
     "text": [
      "/u/home/staff1/bwinjum/a-workshop/mpitutorial/tutorials/mpi-hello-world/code\n"
     ]
    }
   ],
   "source": [
    "%cd mpitutorial/tutorials/mpi-hello-world/code/"
   ]
  },
  {
   "cell_type": "code",
   "execution_count": 3,
   "metadata": {
    "collapsed": false,
    "deletable": true,
    "editable": true
   },
   "outputs": [
    {
     "data": {
      "text/plain": [
       "'/u/home/staff1/bwinjum/a-workshop/mpitutorial/tutorials/mpi-hello-world/code'"
      ]
     },
     "execution_count": 3,
     "metadata": {},
     "output_type": "execute_result"
    }
   ],
   "source": [
    "%pwd"
   ]
  },
  {
   "cell_type": "code",
   "execution_count": 4,
   "metadata": {
    "collapsed": false,
    "deletable": true,
    "editable": true
   },
   "outputs": [
    {
     "name": "stdout",
     "output_type": "stream",
     "text": [
      "/bin/sh: ./run.py: No such file or directory\r\n"
     ]
    }
   ],
   "source": [
    "!./run.py mpi_hello_world"
   ]
  },
  {
   "cell_type": "code",
   "execution_count": 11,
   "metadata": {
    "collapsed": false,
    "deletable": true,
    "editable": true
   },
   "outputs": [
    {
     "name": "stdout",
     "output_type": "stream",
     "text": [
      "/u/local/compilers/intel/17.0.1/compilers_and_libraries_2017.1.132/linux/mpi/intel64/bin/mpirun\r\n"
     ]
    }
   ],
   "source": [
    "!which mpirun"
   ]
  },
  {
   "cell_type": "code",
   "execution_count": 5,
   "metadata": {
    "collapsed": false,
    "deletable": true,
    "editable": true
   },
   "outputs": [
    {
     "name": "stdout",
     "output_type": "stream",
     "text": [
      "Hello world from processor n7212, rank 4 out of 32 processors\r\n",
      "Hello world from processor n7212, rank 8 out of 32 processors\r\n",
      "Hello world from processor n7212, rank 10 out of 32 processors\r\n",
      "Hello world from processor n7212, rank 11 out of 32 processors\r\n",
      "Hello world from processor n7212, rank 21 out of 32 processors\r\n",
      "Hello world from processor n7212, rank 29 out of 32 processors\r\n",
      "Hello world from processor n7212, rank 24 out of 32 processors\r\n",
      "Hello world from processor n7212, rank 1 out of 32 processors\r\n",
      "Hello world from processor n7212, rank 3 out of 32 processors\r\n",
      "Hello world from processor n7212, rank 19 out of 32 processors\r\n",
      "Hello world from processor n7212, rank 26 out of 32 processors\r\n",
      "Hello world from processor n7212, rank 9 out of 32 processors\r\n",
      "Hello world from processor n7212, rank 2 out of 32 processors\r\n",
      "Hello world from processor n7212, rank 23 out of 32 processors\r\n",
      "Hello world from processor n7212, rank 17 out of 32 processors\r\n",
      "Hello world from processor n7212, rank 20 out of 32 processors\r\n",
      "Hello world from processor n7212, rank 28 out of 32 processors\r\n",
      "Hello world from processor n7212, rank 0 out of 32 processors\r\n",
      "Hello world from processor n7212, rank 5 out of 32 processors\r\n",
      "Hello world from processor n7212, rank 7 out of 32 processors\r\n",
      "Hello world from processor n7212, rank 12 out of 32 processors\r\n",
      "Hello world from processor n7212, rank 13 out of 32 processors\r\n",
      "Hello world from processor n7212, rank 15 out of 32 processors\r\n",
      "Hello world from processor n7212, rank 16 out of 32 processors\r\n",
      "Hello world from processor n7212, rank 25 out of 32 processors\r\n",
      "Hello world from processor n7212, rank 27 out of 32 processors\r\n",
      "Hello world from processor n7212, rank 31 out of 32 processors\r\n",
      "Hello world from processor n7212, rank 6 out of 32 processors\r\n",
      "Hello world from processor n7212, rank 18 out of 32 processors\r\n",
      "Hello world from processor n7212, rank 22 out of 32 processors\r\n",
      "Hello world from processor n7212, rank 30 out of 32 processors\r\n",
      "Hello world from processor n7212, rank 14 out of 32 processors\r\n"
     ]
    }
   ],
   "source": [
    "!mpiexec.hydra -n 32 ./mpi_hello_world"
   ]
  },
  {
   "cell_type": "code",
   "execution_count": 1,
   "metadata": {
    "collapsed": true,
    "deletable": true,
    "editable": true
   },
   "outputs": [],
   "source": [
    "!source /u/local/bin/set_qrsh_env.sh"
   ]
  },
  {
   "cell_type": "code",
   "execution_count": 2,
   "metadata": {
    "collapsed": false,
    "deletable": true,
    "editable": true
   },
   "outputs": [
    {
     "name": "stdout",
     "output_type": "stream",
     "text": [
      "/u/home/staff1/bwinjum\n"
     ]
    },
    {
     "data": {
      "text/plain": [
       "'/u/home/staff1/bwinjum'"
      ]
     },
     "execution_count": 2,
     "metadata": {},
     "output_type": "execute_result"
    }
   ],
   "source": [
    "%cd\n",
    "%pwd"
   ]
  },
  {
   "cell_type": "code",
   "execution_count": 3,
   "metadata": {
    "collapsed": false,
    "deletable": true,
    "editable": true
   },
   "outputs": [
    {
     "name": "stdout",
     "output_type": "stream",
     "text": [
      "/u/home/staff1/bwinjum/a-workshop\n"
     ]
    }
   ],
   "source": [
    "%cd a-workshop"
   ]
  },
  {
   "cell_type": "code",
   "execution_count": 8,
   "metadata": {
    "collapsed": false,
    "deletable": true,
    "editable": true
   },
   "outputs": [
    {
     "name": "stdout",
     "output_type": "stream",
     "text": [
      "mpi_mm has started with 12 tasks.\n",
      "Initializing arrays...\n",
      "Sending 564 rows to task 1 offset=0\n",
      "Sending 564 rows to task 2 offset=564\n",
      "Sending 564 rows to task 3 offset=1128\n",
      "Sending 564 rows to task 4 offset=1692\n",
      "Sending 564 rows to task 5 offset=2256\n",
      "Sending 564 rows to task 6 offset=2820\n",
      "Sending 564 rows to task 7 offset=3384\n",
      "Sending 563 rows to task 8 offset=3948\n",
      "Sending 563 rows to task 9 offset=4511\n",
      "Sending 563 rows to task 10 offset=5074\n",
      "Sending 563 rows to task 11 offset=5637\n",
      "Received results from task 1\n",
      "Received results from task 2\n",
      "Received results from task 3\n",
      "Received results from task 4\n",
      "Received results from task 5\n",
      "Received results from task 6\n",
      "Received results from task 7\n",
      "Received results from task 8\n",
      "Received results from task 9\n",
      "Received results from task 10\n",
      "Received results from task 11\n",
      "CPU times: user 1.32 s, sys: 196 ms, total: 1.52 s\n",
      "Wall time: 38.3 s\n"
     ]
    }
   ],
   "source": [
    "%time !mpiexec.hydra -n 12 ./mpi_mm"
   ]
  },
  {
   "cell_type": "code",
   "execution_count": 9,
   "metadata": {
    "collapsed": false,
    "deletable": true,
    "editable": true
   },
   "outputs": [
    {
     "name": "stdout",
     "output_type": "stream",
     "text": [
      "mpi_mm has started with 2 tasks.\n",
      "Initializing arrays...\n",
      "Sending 6200 rows to task 1 offset=0\n",
      "Received results from task 1\n",
      "CPU times: user 2.32 s, sys: 493 ms, total: 2.81 s\n",
      "Wall time: 1min 5s\n"
     ]
    }
   ],
   "source": [
    "%time !mpiexec.hydra -n 2 ./mpi_mm"
   ]
  },
  {
   "cell_type": "code",
   "execution_count": 10,
   "metadata": {
    "collapsed": false,
    "deletable": true,
    "editable": true
   },
   "outputs": [
    {
     "name": "stdout",
     "output_type": "stream",
     "text": [
      "23 April 2019 09:15:51 PM\n",
      "\n",
      "PRIME_MPI\n",
      "  C/MPI version\n",
      "\n",
      "  An MPI example program to count the number of primes.\n",
      "  The number of processes is 2\n",
      "\n",
      "         N        Pi          Time\n",
      "\n",
      "         1         0        0.000100\n",
      "         2         1        0.000010\n",
      "         4         2        0.000005\n",
      "         8         4        0.000006\n",
      "        16         6        0.000007\n",
      "        32        11        0.000018\n",
      "        64        18        0.000018\n",
      "       128        31        0.000060\n",
      "       256        54        0.000144\n",
      "       512        97        0.000511\n",
      "      1024       172        0.002064\n",
      "      2048       309        0.006582\n",
      "      4096       564        0.024248\n",
      "      8192      1028        0.088974\n",
      "     16384      1900        0.325384\n",
      "     32768      3512        0.536100\n",
      "     65536      6542        2.131249\n",
      "    131072     12251        7.625670\n",
      "    262144     23000       29.543732\n",
      "\n",
      "PRIME_MPI - Master process:\n",
      "  Normal end of execution.\n",
      "\n",
      "23 April 2019 09:16:31 PM\n"
     ]
    }
   ],
   "source": [
    "!mpiexec.hydra -n 2 ./a.out"
   ]
  },
  {
   "cell_type": "code",
   "execution_count": 13,
   "metadata": {
    "collapsed": false,
    "deletable": true,
    "editable": true
   },
   "outputs": [
    {
     "name": "stdout",
     "output_type": "stream",
     "text": [
      "23 April 2019 09:22:54 PM\n",
      "\n",
      "PRIME_MPI\n",
      "  C/MPI version\n",
      "\n",
      "  An MPI example program to count the number of primes.\n",
      "  The number of processes is 64\n",
      "\n",
      "         N        Pi          Time\n",
      "\n",
      "         1         0        0.011107\n",
      "         2         1        0.000091\n",
      "         4         2        0.000077\n",
      "         8         4        0.000075\n",
      "        16         6        0.000073\n",
      "        32        11        0.000074\n",
      "        64        18        0.000066\n",
      "       128        31        0.000071\n",
      "       256        54        0.000112\n",
      "       512        97        0.011189\n",
      "      1024       172        0.000130\n",
      "      2048       309        0.000227\n",
      "      4096       564        0.007224\n",
      "      8192      1028        0.007087\n",
      "     16384      1900        0.023632\n",
      "     32768      3512        0.045995\n",
      "     65536      6542        0.166594\n",
      "    131072     12251        0.609824\n",
      "    262144     23000        2.295709\n",
      "\n",
      "PRIME_MPI - Master process:\n",
      "  Normal end of execution.\n",
      "\n",
      "23 April 2019 09:22:57 PM\n"
     ]
    }
   ],
   "source": [
    "!mpiexec.hydra -n 64 ./a.out"
   ]
  },
  {
   "cell_type": "code",
   "execution_count": 23,
   "metadata": {
    "collapsed": true,
    "deletable": true,
    "editable": true
   },
   "outputs": [],
   "source": [
    "!source /u/local/bin/set_qrsh_env.sh"
   ]
  },
  {
   "cell_type": "code",
   "execution_count": 2,
   "metadata": {
    "collapsed": false,
    "deletable": true,
    "editable": true
   },
   "outputs": [
    {
     "name": "stdout",
     "output_type": "stream",
     "text": [
      "/u/home/staff1/bwinjum/a-workshop/osiris\n"
     ]
    },
    {
     "data": {
      "text/plain": [
       "'/u/home/staff1/bwinjum/a-workshop/osiris'"
      ]
     },
     "execution_count": 2,
     "metadata": {},
     "output_type": "execute_result"
    }
   ],
   "source": [
    "%cd ~/a-workshop/osiris\n",
    "%pwd"
   ]
  },
  {
   "cell_type": "code",
   "execution_count": 3,
   "metadata": {
    "collapsed": false,
    "deletable": true,
    "editable": true
   },
   "outputs": [
    {
     "name": "stdout",
     "output_type": "stream",
     "text": [
      " Osiris running on host n7212\n",
      " Current working directory = /u/home/staff1/bwinjum/a-workshop/osiris\n",
      " Timer resolution is   1.000000000000000E-006  seconds\n",
      " \n",
      " ***************************************************************\n",
      " *                     Using Fortran version                   *\n",
      " ***************************************************************\n",
      " \n",
      " Software revision: r044addf\n",
      " \n",
      " \n",
      " Reading input file, full name: input-n1\n",
      " \n",
      " Reading global simulation options... \n",
      " Reading parallel node configuration... \n",
      " Reading grid configuration...\n",
      " cartesian coordinates\n",
      " Reading tstep configuration... \n",
      " Reading restart configuration... \n",
      " Reading g_space configuration... \n",
      " Reading time configuration... \n",
      " Reading emf configuration... \n",
      "  - no smoothing specified\n",
      " Reading part configuration... \n",
      " - species (1) configuration...\n",
      "    Species name : electrons\n",
      " - species (2) configuration...\n",
      "    Species name : carbon\n",
      " Reading zpulses ... \n",
      " Reading current configuration...\n",
      " Reading antenna configuration...\n",
      " \n",
      " Initializing simulation:\n",
      "  Setting up no_co\n",
      "  - Running on 1 processes, 1 thread(s) per process\n",
      "  setting up topology\n",
      "  Setting up random number seed\n",
      "  Setting up grid\n",
      "  - setting parallel grid boundaries...\n",
      "  Setting up tstep\n",
      "  Setting up restart\n",
      "  Setting up g_space\n",
      "  Setting up time\n",
      "  Setting up emf\n",
      "  Setting up current\n",
      "  Setting up particles\n",
      "  Setting up zpulses\n",
      "  Setting up antenna array\n",
      "  Setting up diagnostics utilities\n",
      " \n",
      " Initialization complete!\n",
      "  \n",
      " Numerical precision :\n",
      " - Fields    : double precision\n",
      " - Particles : double precision\n",
      "  \n",
      " Global random number generator\n",
      "  - Algorithm: Mersenne Twister\n",
      "  \n",
      " Field Solver:\n",
      " - Standard Yee solver\n",
      " - Guard Cells:\n",
      "     x1 : [3, 4]\n",
      "     x2 : [3, 4]\n",
      " - Using self generated fields only\n",
      " - No field smoothing\n",
      "  \n",
      " - Field Boundary condtions:\n",
      "     x1 : [Periodic, Periodic]\n",
      "     x2 : [Periodic, Periodic]\n",
      "  \n",
      "Particles:\n",
      "- Number of species: 2\n",
      "- Cubic (3rd order) interpolation\n",
      "- Using staggered Yee grid values for interpolation\n",
      "  \n",
      " electrons :\n",
      " - Push at every time step (no subcycling)\n",
      " - Standard pusher\n",
      "  \n",
      " carbon :\n",
      " - Push at every time step (no subcycling)\n",
      " - Standard pusher\n",
      " \n",
      " Collisions:\n",
      " - Model: Perez Relativistic Extension of Nanbu Model\n",
      " - Type of crosssection correction: none\n",
      " - Type of crosssection TIME correction: none\n",
      " - Type of frame correction: none\n",
      "  \n",
      " Electrical current :\n",
      " - Using smoothing\n",
      "Dynamic memory status:\n",
      "- Number of allocated memory blocks: 65\n",
      "Total Allocated Memory: 307.0 MB\n",
      " \n",
      " Starting main simulation loop:\n",
      " \n",
      "n =          0, t = .000\n",
      "n =          1, t = .070\n",
      "n =          2, t = .140\n",
      "n =          3, t = .210\n",
      "n =          4, t = .280\n",
      "n =          5, t = .350\n",
      "n =          6, t = .420\n",
      "n =          7, t = .490\n",
      "n =          8, t = .560\n",
      "n =          9, t = .630\n",
      "n =         10, t = .700\n",
      "n =         11, t = .770\n",
      "n =         12, t = .840\n",
      "n =         13, t = .910\n",
      "n =         14, t = .980\n",
      "n =         15, t = 1.050\n",
      "n =         16, t = 1.120\n",
      "n =         17, t = 1.190\n",
      "n =         18, t = 1.260\n",
      "n =         19, t = 1.330\n",
      "n =         20, t = 1.400\n",
      "n =         21, t = 1.470\n",
      "n =         22, t = 1.540\n",
      "n =         23, t = 1.610\n",
      "n =         24, t = 1.680\n",
      "n =         25, t = 1.750\n",
      "n =         26, t = 1.820\n",
      "n =         27, t = 1.890\n",
      "n =         28, t = 1.960\n",
      "n =         29, t = 2.030\n",
      "n =         30, t = 2.100\n",
      "n =         31, t = 2.170\n",
      "n =         32, t = 2.240\n",
      "n =         33, t = 2.310\n",
      "n =         34, t = 2.380\n",
      "n =         35, t = 2.450\n",
      "n =         36, t = 2.520\n",
      "n =         37, t = 2.590\n",
      "n =         38, t = 2.660\n",
      "n =         39, t = 2.730\n",
      "n =         40, t = 2.800\n",
      "n =         41, t = 2.870\n",
      "n =         42, t = 2.940\n",
      "n =         43, t = 3.010\n",
      "n =         44, t = 3.080\n",
      "n =         45, t = 3.150\n",
      "n =         46, t = 3.220\n",
      "n =         47, t = 3.290\n",
      "n =         48, t = 3.360\n",
      "n =         49, t = 3.430\n",
      "n =         50, t = 3.500\n",
      "n =         51, t = 3.570\n",
      "n =         52, t = 3.640\n",
      "n =         53, t = 3.710\n",
      "n =         54, t = 3.780\n",
      "n =         55, t = 3.850\n",
      "n =         56, t = 3.920\n",
      "n =         57, t = 3.990\n",
      "n =         58, t = 4.060\n",
      "n =         59, t = 4.130\n",
      "n =         60, t = 4.200\n",
      "n =         61, t = 4.270\n",
      "n =         62, t = 4.340\n",
      "n =         63, t = 4.410\n",
      "n =         64, t = 4.480\n",
      "n =         65, t = 4.550\n",
      "n =         66, t = 4.620\n",
      "n =         67, t = 4.690\n",
      "n =         68, t = 4.760\n",
      "n =         69, t = 4.830\n",
      "n =         70, t = 4.900\n",
      "n =         71, t = 4.970\n",
      "n =         72, t = 5.040\n",
      "n =         73, t = 5.110\n",
      "n =         74, t = 5.180\n",
      "n =         75, t = 5.250\n",
      "n =         76, t = 5.320\n",
      "n =         77, t = 5.390\n",
      "n =         78, t = 5.460\n",
      "n =         79, t = 5.530\n",
      "n =         80, t = 5.600\n",
      "n =         81, t = 5.670\n",
      "n =         82, t = 5.740\n",
      "n =         83, t = 5.810\n",
      "n =         84, t = 5.880\n",
      "n =         85, t = 5.950\n",
      "n =         86, t = 6.020\n",
      " \n",
      "  Simulation completed.\n",
      " \n",
      " \n",
      " Osiris run completed normally\n",
      "CPU times: user 410 ms, sys: 61 ms, total: 471 ms\n",
      "Wall time: 14.8 s\n"
     ]
    }
   ],
   "source": [
    "%time !mpiexec.hydra -n 1 ./osiris-2D.e input-n1"
   ]
  },
  {
   "cell_type": "code",
   "execution_count": 4,
   "metadata": {
    "collapsed": false,
    "deletable": true,
    "editable": true
   },
   "outputs": [
    {
     "name": "stdout",
     "output_type": "stream",
     "text": [
      " Osiris running on host n7212\n",
      " Current working directory = /u/home/staff1/bwinjum/a-workshop/osiris\n",
      " Timer resolution is   1.000000000000000E-006  seconds\n",
      " \n",
      " ***************************************************************\n",
      " *                     Using Fortran version                   *\n",
      " ***************************************************************\n",
      " \n",
      " Software revision: r044addf\n",
      " \n",
      " \n",
      " Reading input file, full name: input-n2\n",
      " \n",
      " Reading global simulation options... \n",
      " Reading parallel node configuration... \n",
      " Reading grid configuration...\n",
      " cartesian coordinates\n",
      " Reading tstep configuration... \n",
      " Reading restart configuration... \n",
      " Reading g_space configuration... \n",
      " Reading time configuration... \n",
      " Reading emf configuration... \n",
      "  - no smoothing specified\n",
      " Reading part configuration... \n",
      " - species (1) configuration...\n",
      "    Species name : electrons\n",
      " - species (2) configuration...\n",
      "    Species name : carbon\n",
      " Reading zpulses ... \n",
      " Reading current configuration...\n",
      " Reading antenna configuration...\n",
      " \n",
      " Initializing simulation:\n",
      "  Setting up no_co\n",
      "  - Running on 2 processes, 1 thread(s) per process\n",
      "  setting up topology\n",
      "  - Using MPI_Cart_create based topology\n",
      "  Setting up random number seed\n",
      "  Setting up grid\n",
      "  - setting parallel grid boundaries...\n",
      "  Setting up tstep\n",
      "  Setting up restart\n",
      "  Setting up g_space\n",
      "  Setting up time\n",
      "  Setting up emf\n",
      "  Setting up current\n",
      "  Setting up particles\n",
      "  Setting up zpulses\n",
      "  Setting up antenna array\n",
      "  Setting up diagnostics utilities\n",
      " \n",
      " Initialization complete!\n",
      "  \n",
      " Numerical precision :\n",
      " - Fields    : double precision\n",
      " - Particles : double precision\n",
      "  \n",
      " Global random number generator\n",
      "  - Algorithm: Mersenne Twister\n",
      "  \n",
      " Field Solver:\n",
      " - Standard Yee solver\n",
      " - Guard Cells:\n",
      "     x1 : [3, 4]\n",
      "     x2 : [3, 4]\n",
      " - Using self generated fields only\n",
      " - No field smoothing\n",
      "  \n",
      " - Field Boundary condtions:\n",
      "     x1 : [Periodic, Periodic]\n",
      "     x2 : [Periodic, Periodic]\n",
      "  \n",
      "Particles:\n",
      "- Number of species: 2\n",
      "- Cubic (3rd order) interpolation\n",
      "- Using staggered Yee grid values for interpolation\n",
      "  \n",
      " electrons :\n",
      " - Push at every time step (no subcycling)\n",
      " - Standard pusher\n",
      "  \n",
      " carbon :\n",
      " - Push at every time step (no subcycling)\n",
      " - Standard pusher\n",
      " \n",
      " Collisions:\n",
      " - Model: Perez Relativistic Extension of Nanbu Model\n",
      " - Type of crosssection correction: none\n",
      " - Type of crosssection TIME correction: none\n",
      " - Type of frame correction: none\n",
      "  \n",
      " Electrical current :\n",
      " - Using smoothing\n",
      " \n",
      "Global dynamic memory status:\n",
      "- Number of allocated memory blocks (total/node max): 130 / 65\n",
      "- Total Allocated Memory (total/node max): 591.5 MB / 295.8 MB\n",
      " \n",
      " Starting main simulation loop:\n",
      " \n",
      "n =          0, t = .000\n",
      "n =          1, t = .070\n",
      "n =          2, t = .140\n",
      "n =          3, t = .210\n",
      "n =          4, t = .280\n",
      "n =          5, t = .350\n",
      "n =          6, t = .420\n",
      "n =          7, t = .490\n",
      "n =          8, t = .560\n",
      "n =          9, t = .630\n",
      "n =         10, t = .700\n",
      "n =         11, t = .770\n",
      "n =         12, t = .840\n",
      "n =         13, t = .910\n",
      "n =         14, t = .980\n",
      "n =         15, t = 1.050\n",
      "n =         16, t = 1.120\n",
      "n =         17, t = 1.190\n",
      "n =         18, t = 1.260\n",
      "n =         19, t = 1.330\n",
      "n =         20, t = 1.400\n",
      "n =         21, t = 1.470\n",
      "n =         22, t = 1.540\n",
      "n =         23, t = 1.610\n",
      "n =         24, t = 1.680\n",
      "n =         25, t = 1.750\n",
      "n =         26, t = 1.820\n",
      "n =         27, t = 1.890\n",
      "n =         28, t = 1.960\n",
      "n =         29, t = 2.030\n",
      "n =         30, t = 2.100\n",
      "n =         31, t = 2.170\n",
      "n =         32, t = 2.240\n",
      "n =         33, t = 2.310\n",
      "n =         34, t = 2.380\n",
      "n =         35, t = 2.450\n",
      "n =         36, t = 2.520\n",
      "n =         37, t = 2.590\n",
      "n =         38, t = 2.660\n",
      "n =         39, t = 2.730\n",
      "n =         40, t = 2.800\n",
      "n =         41, t = 2.870\n",
      "n =         42, t = 2.940\n",
      "n =         43, t = 3.010\n",
      "n =         44, t = 3.080\n",
      "n =         45, t = 3.150\n",
      "n =         46, t = 3.220\n",
      "n =         47, t = 3.290\n",
      "n =         48, t = 3.360\n",
      "n =         49, t = 3.430\n",
      "n =         50, t = 3.500\n",
      "n =         51, t = 3.570\n",
      "n =         52, t = 3.640\n",
      "n =         53, t = 3.710\n",
      "n =         54, t = 3.780\n",
      "n =         55, t = 3.850\n",
      "n =         56, t = 3.920\n",
      "n =         57, t = 3.990\n",
      "n =         58, t = 4.060\n",
      "n =         59, t = 4.130\n",
      "n =         60, t = 4.200\n",
      "n =         61, t = 4.270\n",
      "n =         62, t = 4.340\n",
      "n =         63, t = 4.410\n",
      "n =         64, t = 4.480\n",
      "n =         65, t = 4.550\n",
      "n =         66, t = 4.620\n",
      "n =         67, t = 4.690\n",
      "n =         68, t = 4.760\n",
      "n =         69, t = 4.830\n",
      "n =         70, t = 4.900\n",
      "n =         71, t = 4.970\n",
      "n =         72, t = 5.040\n",
      "n =         73, t = 5.110\n",
      "n =         74, t = 5.180\n",
      "n =         75, t = 5.250\n",
      "n =         76, t = 5.320\n",
      "n =         77, t = 5.390\n",
      "n =         78, t = 5.460\n",
      "n =         79, t = 5.530\n",
      "n =         80, t = 5.600\n",
      "n =         81, t = 5.670\n",
      "n =         82, t = 5.740\n",
      "n =         83, t = 5.810\n",
      "n =         84, t = 5.880\n",
      "n =         85, t = 5.950\n",
      "n =         86, t = 6.020\n",
      " \n",
      "  Simulation completed.\n",
      " \n",
      " \n",
      " Osiris run completed normally\n",
      "CPU times: user 240 ms, sys: 33 ms, total: 273 ms\n",
      "Wall time: 7.79 s\n"
     ]
    }
   ],
   "source": [
    "%time !mpiexec.hydra -n 2 ./osiris-2D.e input-n2"
   ]
  },
  {
   "cell_type": "code",
   "execution_count": 30,
   "metadata": {
    "collapsed": false,
    "deletable": true,
    "editable": true
   },
   "outputs": [],
   "source": [
    "import os\n",
    "import subprocess\n",
    "import shutil\n",
    "import IPython\n",
    "\n",
    "def execute(cmd,basedir):\n",
    "\n",
    "    popen = subprocess.Popen(cmd, stdout=subprocess.PIPE, universal_newlines=True)\n",
    "    for stdout_line in iter(popen.stdout.readline, \"\"):\n",
    "        yield stdout_line\n",
    "    popen.stdout.close()\n",
    "    return_code = popen.wait()\n",
    "    if return_code:\n",
    "        os.chdir(basedir)\n",
    "        raise subprocess.CalledProcessError(return_code, cmd)\n",
    "\n",
    "def runosiris_2d(rundir='',inputfile='osiris-input.txt',numproc=1):\n",
    "\n",
    "    basedir = os.getcwd()\n",
    "    workdir = basedir + '/' + rundir\n",
    "    print(workdir)\n",
    "\n",
    "    # run osiris-2D.e executable\n",
    "    if(not os.path.isdir(workdir)):\n",
    "       os.mkdir(workdir)\n",
    "    if(rundir != ''):\n",
    "        shutil.copyfile('osiris-2D.e',workdir+'/osiris-2D.e')\n",
    "        shutil.copyfile(inputfile,workdir+'/osiris-input.txt')\n",
    "\n",
    "    os.chdir(workdir)\n",
    "    os.chmod('./osiris-2D.e',0o755)\n",
    "    \n",
    "    for path in execute(['mpiexec.hydra','-n',str(numproc),'./osiris-2D.e','osiris-input.txt'],basedir=basedir):\n",
    "        IPython.display.clear_output(wait=True)\n",
    "        print(path, end='')\n",
    "\n",
    "    IPython.display.clear_output(wait=True)\n",
    "    print('runosiris completed normally')\n",
    "\n",
    "    os.chdir(basedir)\n",
    "    \n",
    "    return\n"
   ]
  },
  {
   "cell_type": "code",
   "execution_count": 31,
   "metadata": {
    "collapsed": false,
    "deletable": true,
    "editable": true
   },
   "outputs": [
    {
     "name": "stdout",
     "output_type": "stream",
     "text": [
      "b'n =         33, t = 2.310\\n'"
     ]
    },
    {
     "ename": "KeyboardInterrupt",
     "evalue": "",
     "output_type": "error",
     "traceback": [
      "\u001b[0;31m\u001b[0m",
      "\u001b[0;31mKeyboardInterrupt\u001b[0mTraceback (most recent call last)",
      "\u001b[0;32m<ipython-input-31-3a433a741953>\u001b[0m in \u001b[0;36m<module>\u001b[0;34m()\u001b[0m\n\u001b[0;32m----> 1\u001b[0;31m \u001b[0mget_ipython\u001b[0m\u001b[0;34m(\u001b[0m\u001b[0;34m)\u001b[0m\u001b[0;34m.\u001b[0m\u001b[0mmagic\u001b[0m\u001b[0;34m(\u001b[0m\u001b[0;34m\"time runosiris_2d(rundir='b1',inputfile='input-n1',numproc=1)\"\u001b[0m\u001b[0;34m)\u001b[0m\u001b[0;34m\u001b[0m\u001b[0m\n\u001b[0m",
      "\u001b[0;32m/u/local/apps/python/3.4.3/lib/python3.4/site-packages/IPython/core/interactiveshell.py\u001b[0m in \u001b[0;36mmagic\u001b[0;34m(self, arg_s)\u001b[0m\n\u001b[1;32m   2156\u001b[0m         \u001b[0mmagic_name\u001b[0m\u001b[0;34m,\u001b[0m \u001b[0m_\u001b[0m\u001b[0;34m,\u001b[0m \u001b[0mmagic_arg_s\u001b[0m \u001b[0;34m=\u001b[0m \u001b[0marg_s\u001b[0m\u001b[0;34m.\u001b[0m\u001b[0mpartition\u001b[0m\u001b[0;34m(\u001b[0m\u001b[0;34m' '\u001b[0m\u001b[0;34m)\u001b[0m\u001b[0;34m\u001b[0m\u001b[0m\n\u001b[1;32m   2157\u001b[0m         \u001b[0mmagic_name\u001b[0m \u001b[0;34m=\u001b[0m \u001b[0mmagic_name\u001b[0m\u001b[0;34m.\u001b[0m\u001b[0mlstrip\u001b[0m\u001b[0;34m(\u001b[0m\u001b[0mprefilter\u001b[0m\u001b[0;34m.\u001b[0m\u001b[0mESC_MAGIC\u001b[0m\u001b[0;34m)\u001b[0m\u001b[0;34m\u001b[0m\u001b[0m\n\u001b[0;32m-> 2158\u001b[0;31m         \u001b[0;32mreturn\u001b[0m \u001b[0mself\u001b[0m\u001b[0;34m.\u001b[0m\u001b[0mrun_line_magic\u001b[0m\u001b[0;34m(\u001b[0m\u001b[0mmagic_name\u001b[0m\u001b[0;34m,\u001b[0m \u001b[0mmagic_arg_s\u001b[0m\u001b[0;34m)\u001b[0m\u001b[0;34m\u001b[0m\u001b[0m\n\u001b[0m\u001b[1;32m   2159\u001b[0m \u001b[0;34m\u001b[0m\u001b[0m\n\u001b[1;32m   2160\u001b[0m     \u001b[0;31m#-------------------------------------------------------------------------\u001b[0m\u001b[0;34m\u001b[0m\u001b[0;34m\u001b[0m\u001b[0m\n",
      "\u001b[0;32m/u/local/apps/python/3.4.3/lib/python3.4/site-packages/IPython/core/interactiveshell.py\u001b[0m in \u001b[0;36mrun_line_magic\u001b[0;34m(self, magic_name, line)\u001b[0m\n\u001b[1;32m   2077\u001b[0m                 \u001b[0mkwargs\u001b[0m\u001b[0;34m[\u001b[0m\u001b[0;34m'local_ns'\u001b[0m\u001b[0;34m]\u001b[0m \u001b[0;34m=\u001b[0m \u001b[0msys\u001b[0m\u001b[0;34m.\u001b[0m\u001b[0m_getframe\u001b[0m\u001b[0;34m(\u001b[0m\u001b[0mstack_depth\u001b[0m\u001b[0;34m)\u001b[0m\u001b[0;34m.\u001b[0m\u001b[0mf_locals\u001b[0m\u001b[0;34m\u001b[0m\u001b[0m\n\u001b[1;32m   2078\u001b[0m             \u001b[0;32mwith\u001b[0m \u001b[0mself\u001b[0m\u001b[0;34m.\u001b[0m\u001b[0mbuiltin_trap\u001b[0m\u001b[0;34m:\u001b[0m\u001b[0;34m\u001b[0m\u001b[0m\n\u001b[0;32m-> 2079\u001b[0;31m                 \u001b[0mresult\u001b[0m \u001b[0;34m=\u001b[0m \u001b[0mfn\u001b[0m\u001b[0;34m(\u001b[0m\u001b[0;34m*\u001b[0m\u001b[0margs\u001b[0m\u001b[0;34m,\u001b[0m\u001b[0;34m**\u001b[0m\u001b[0mkwargs\u001b[0m\u001b[0;34m)\u001b[0m\u001b[0;34m\u001b[0m\u001b[0m\n\u001b[0m\u001b[1;32m   2080\u001b[0m             \u001b[0;32mreturn\u001b[0m \u001b[0mresult\u001b[0m\u001b[0;34m\u001b[0m\u001b[0m\n\u001b[1;32m   2081\u001b[0m \u001b[0;34m\u001b[0m\u001b[0m\n",
      "\u001b[0;32m<decorator-gen-59>\u001b[0m in \u001b[0;36mtime\u001b[0;34m(self, line, cell, local_ns)\u001b[0m\n",
      "\u001b[0;32m/u/local/apps/python/3.4.3/lib/python3.4/site-packages/IPython/core/magic.py\u001b[0m in \u001b[0;36m<lambda>\u001b[0;34m(f, *a, **k)\u001b[0m\n\u001b[1;32m    186\u001b[0m     \u001b[0;31m# but it's overkill for just that one bit of state.\u001b[0m\u001b[0;34m\u001b[0m\u001b[0;34m\u001b[0m\u001b[0m\n\u001b[1;32m    187\u001b[0m     \u001b[0;32mdef\u001b[0m \u001b[0mmagic_deco\u001b[0m\u001b[0;34m(\u001b[0m\u001b[0marg\u001b[0m\u001b[0;34m)\u001b[0m\u001b[0;34m:\u001b[0m\u001b[0;34m\u001b[0m\u001b[0m\n\u001b[0;32m--> 188\u001b[0;31m         \u001b[0mcall\u001b[0m \u001b[0;34m=\u001b[0m \u001b[0;32mlambda\u001b[0m \u001b[0mf\u001b[0m\u001b[0;34m,\u001b[0m \u001b[0;34m*\u001b[0m\u001b[0ma\u001b[0m\u001b[0;34m,\u001b[0m \u001b[0;34m**\u001b[0m\u001b[0mk\u001b[0m\u001b[0;34m:\u001b[0m \u001b[0mf\u001b[0m\u001b[0;34m(\u001b[0m\u001b[0;34m*\u001b[0m\u001b[0ma\u001b[0m\u001b[0;34m,\u001b[0m \u001b[0;34m**\u001b[0m\u001b[0mk\u001b[0m\u001b[0;34m)\u001b[0m\u001b[0;34m\u001b[0m\u001b[0m\n\u001b[0m\u001b[1;32m    189\u001b[0m \u001b[0;34m\u001b[0m\u001b[0m\n\u001b[1;32m    190\u001b[0m         \u001b[0;32mif\u001b[0m \u001b[0mcallable\u001b[0m\u001b[0;34m(\u001b[0m\u001b[0marg\u001b[0m\u001b[0;34m)\u001b[0m\u001b[0;34m:\u001b[0m\u001b[0;34m\u001b[0m\u001b[0m\n",
      "\u001b[0;32m/u/local/apps/python/3.4.3/lib/python3.4/site-packages/IPython/core/magics/execution.py\u001b[0m in \u001b[0;36mtime\u001b[0;34m(self, line, cell, local_ns)\u001b[0m\n\u001b[1;32m   1179\u001b[0m         \u001b[0;32mif\u001b[0m \u001b[0mmode\u001b[0m\u001b[0;34m==\u001b[0m\u001b[0;34m'eval'\u001b[0m\u001b[0;34m:\u001b[0m\u001b[0;34m\u001b[0m\u001b[0m\n\u001b[1;32m   1180\u001b[0m             \u001b[0mst\u001b[0m \u001b[0;34m=\u001b[0m \u001b[0mclock2\u001b[0m\u001b[0;34m(\u001b[0m\u001b[0;34m)\u001b[0m\u001b[0;34m\u001b[0m\u001b[0m\n\u001b[0;32m-> 1181\u001b[0;31m             \u001b[0mout\u001b[0m \u001b[0;34m=\u001b[0m \u001b[0meval\u001b[0m\u001b[0;34m(\u001b[0m\u001b[0mcode\u001b[0m\u001b[0;34m,\u001b[0m \u001b[0mglob\u001b[0m\u001b[0;34m,\u001b[0m \u001b[0mlocal_ns\u001b[0m\u001b[0;34m)\u001b[0m\u001b[0;34m\u001b[0m\u001b[0m\n\u001b[0m\u001b[1;32m   1182\u001b[0m             \u001b[0mend\u001b[0m \u001b[0;34m=\u001b[0m \u001b[0mclock2\u001b[0m\u001b[0;34m(\u001b[0m\u001b[0;34m)\u001b[0m\u001b[0;34m\u001b[0m\u001b[0m\n\u001b[1;32m   1183\u001b[0m         \u001b[0;32melse\u001b[0m\u001b[0;34m:\u001b[0m\u001b[0;34m\u001b[0m\u001b[0m\n",
      "\u001b[0;32m<timed eval>\u001b[0m in \u001b[0;36m<module>\u001b[0;34m()\u001b[0m\n",
      "\u001b[0;32m<ipython-input-30-6755f59e09f8>\u001b[0m in \u001b[0;36mrunosiris_2d\u001b[0;34m(rundir, inputfile, numproc)\u001b[0m\n\u001b[1;32m     31\u001b[0m     \u001b[0mos\u001b[0m\u001b[0;34m.\u001b[0m\u001b[0mchmod\u001b[0m\u001b[0;34m(\u001b[0m\u001b[0;34m'./osiris-2D.e'\u001b[0m\u001b[0;34m,\u001b[0m\u001b[0;36m0o755\u001b[0m\u001b[0;34m)\u001b[0m\u001b[0;34m\u001b[0m\u001b[0m\n\u001b[1;32m     32\u001b[0m \u001b[0;34m\u001b[0m\u001b[0m\n\u001b[0;32m---> 33\u001b[0;31m     \u001b[0;32mfor\u001b[0m \u001b[0mpath\u001b[0m \u001b[0;32min\u001b[0m \u001b[0mexecute\u001b[0m\u001b[0;34m(\u001b[0m\u001b[0;34m[\u001b[0m\u001b[0;34m'mpiexec.hydra'\u001b[0m\u001b[0;34m,\u001b[0m\u001b[0;34m'-n'\u001b[0m\u001b[0;34m,\u001b[0m\u001b[0mstr\u001b[0m\u001b[0;34m(\u001b[0m\u001b[0mnumproc\u001b[0m\u001b[0;34m)\u001b[0m\u001b[0;34m,\u001b[0m\u001b[0;34m'./osiris-2D.e'\u001b[0m\u001b[0;34m,\u001b[0m\u001b[0;34m'osiris-input.txt'\u001b[0m\u001b[0;34m]\u001b[0m\u001b[0;34m,\u001b[0m\u001b[0mbasedir\u001b[0m\u001b[0;34m=\u001b[0m\u001b[0mbasedir\u001b[0m\u001b[0;34m)\u001b[0m\u001b[0;34m:\u001b[0m\u001b[0;34m\u001b[0m\u001b[0m\n\u001b[0m\u001b[1;32m     34\u001b[0m         \u001b[0mIPython\u001b[0m\u001b[0;34m.\u001b[0m\u001b[0mdisplay\u001b[0m\u001b[0;34m.\u001b[0m\u001b[0mclear_output\u001b[0m\u001b[0;34m(\u001b[0m\u001b[0mwait\u001b[0m\u001b[0;34m=\u001b[0m\u001b[0;32mTrue\u001b[0m\u001b[0;34m)\u001b[0m\u001b[0;34m\u001b[0m\u001b[0m\n\u001b[1;32m     35\u001b[0m         \u001b[0mprint\u001b[0m\u001b[0;34m(\u001b[0m\u001b[0mpath\u001b[0m\u001b[0;34m,\u001b[0m \u001b[0mend\u001b[0m\u001b[0;34m=\u001b[0m\u001b[0;34m''\u001b[0m\u001b[0;34m)\u001b[0m\u001b[0;34m\u001b[0m\u001b[0m\n",
      "\u001b[0;32m<ipython-input-30-6755f59e09f8>\u001b[0m in \u001b[0;36mexecute\u001b[0;34m(cmd, basedir)\u001b[0m\n\u001b[1;32m      7\u001b[0m \u001b[0;34m\u001b[0m\u001b[0m\n\u001b[1;32m      8\u001b[0m     \u001b[0mpopen\u001b[0m \u001b[0;34m=\u001b[0m \u001b[0msubprocess\u001b[0m\u001b[0;34m.\u001b[0m\u001b[0mPopen\u001b[0m\u001b[0;34m(\u001b[0m\u001b[0mcmd\u001b[0m\u001b[0;34m,\u001b[0m \u001b[0mstdout\u001b[0m\u001b[0;34m=\u001b[0m\u001b[0msubprocess\u001b[0m\u001b[0;34m.\u001b[0m\u001b[0mPIPE\u001b[0m\u001b[0;34m)\u001b[0m\u001b[0;34m\u001b[0m\u001b[0m\n\u001b[0;32m----> 9\u001b[0;31m     \u001b[0;32mfor\u001b[0m \u001b[0mstdout_line\u001b[0m \u001b[0;32min\u001b[0m \u001b[0miter\u001b[0m\u001b[0;34m(\u001b[0m\u001b[0mpopen\u001b[0m\u001b[0;34m.\u001b[0m\u001b[0mstdout\u001b[0m\u001b[0;34m.\u001b[0m\u001b[0mreadline\u001b[0m\u001b[0;34m,\u001b[0m \u001b[0;34m\"\"\u001b[0m\u001b[0;34m)\u001b[0m\u001b[0;34m:\u001b[0m\u001b[0;34m\u001b[0m\u001b[0m\n\u001b[0m\u001b[1;32m     10\u001b[0m         \u001b[0;32myield\u001b[0m \u001b[0mstdout_line\u001b[0m\u001b[0;34m\u001b[0m\u001b[0m\n\u001b[1;32m     11\u001b[0m     \u001b[0mpopen\u001b[0m\u001b[0;34m.\u001b[0m\u001b[0mstdout\u001b[0m\u001b[0;34m.\u001b[0m\u001b[0mclose\u001b[0m\u001b[0;34m(\u001b[0m\u001b[0;34m)\u001b[0m\u001b[0;34m\u001b[0m\u001b[0m\n",
      "\u001b[0;31mKeyboardInterrupt\u001b[0m: "
     ]
    }
   ],
   "source": [
    "%time runosiris_2d(rundir='b1',inputfile='input-n1',numproc=1)"
   ]
  },
  {
   "cell_type": "code",
   "execution_count": 18,
   "metadata": {
    "collapsed": false,
    "deletable": true,
    "editable": true
   },
   "outputs": [
    {
     "name": "stdout",
     "output_type": "stream",
     "text": [
      "/u/home/staff1/bwinjum/a-workshop/osiris\n"
     ]
    }
   ],
   "source": [
    "%cd ~/a-workshop/osiris"
   ]
  },
  {
   "cell_type": "code",
   "execution_count": 29,
   "metadata": {
    "collapsed": false,
    "deletable": true,
    "editable": true
   },
   "outputs": [
    {
     "name": "stdout",
     "output_type": "stream",
     "text": [
      "runosiris completed normally\n",
      "CPU times: user 552 ms, sys: 156 ms, total: 708 ms\n",
      "Wall time: 12 s\n"
     ]
    }
   ],
   "source": [
    "%time runosiris_2d(rundir='test2',inputfile='input-n2',numproc=2)"
   ]
  },
  {
   "cell_type": "code",
   "execution_count": 22,
   "metadata": {
    "collapsed": false,
    "deletable": true,
    "editable": true
   },
   "outputs": [
    {
     "name": "stdout",
     "output_type": "stream",
     "text": [
      "\u001b[0m\u001b[38;5;27mb1\u001b[0m/  input-n1  input-n2  \u001b[38;5;34mosiris-2D.e\u001b[0m*  os-stdin  \u001b[38;5;27mtest1\u001b[0m/  \u001b[38;5;27mtestv1\u001b[0m/  \u001b[38;5;27mTIMINGS\u001b[0m/\r\n",
      "\u001b[m"
     ]
    }
   ],
   "source": [
    "%ls"
   ]
  },
  {
   "cell_type": "code",
   "execution_count": null,
   "metadata": {
    "collapsed": true
   },
   "outputs": [],
   "source": []
  }
 ],
 "metadata": {
  "kernelspec": {
   "display_name": "Python 3",
   "language": "python",
   "name": "python3"
  },
  "language_info": {
   "codemirror_mode": {
    "name": "ipython",
    "version": 3
   },
   "file_extension": ".py",
   "mimetype": "text/x-python",
   "name": "python",
   "nbconvert_exporter": "python",
   "pygments_lexer": "ipython3",
   "version": "3.4.3"
  }
 },
 "nbformat": 4,
 "nbformat_minor": 2
}
