{
 "cells": [
  {
   "cell_type": "code",
   "execution_count": null,
   "metadata": {},
   "outputs": [],
   "source": [
    "from ipyleaflet import Map,Marker\n",
    "\n",
    "center = (34.0689, -118.4452)\n",
    "\n",
    "m = Map(center=center, zoom=15)\n",
    "\n",
    "marker = Marker(location=center, draggable=False)\n",
    "m.add_layer(marker);\n",
    "\n",
    "m"
   ]
  },
  {
   "cell_type": "code",
   "execution_count": null,
   "metadata": {
    "scrolled": true
   },
   "outputs": [],
   "source": [
    "from ipyleaflet import Map,Marker\n",
    "\n",
    "center = (34.0689, -118.4452)\n",
    "point2 = ()\n",
    "\n",
    "m = Map(center=center, zoom=12)\n",
    "\n",
    "marker1 = Marker(location=center, draggable=False)\n",
    "marker2 = Marker(location=point2, draggable=False)\n",
    "m.add_layer(marker1)\n",
    "m.add_layer(marker2)\n",
    "\n",
    "m"
   ]
  },
  {
   "cell_type": "code",
   "execution_count": null,
   "metadata": {},
   "outputs": [],
   "source": [
    "import os\n",
    "import gmaps\n",
    "gmaps.configure(api_key=os.environ[\"GOOGLE_API_KEY\"])"
   ]
  },
  {
   "cell_type": "code",
   "execution_count": null,
   "metadata": {
    "tags": [
     "parameters"
    ]
   },
   "outputs": [],
   "source": [
    "a1 = 40.75\n",
    "a2 = -74.00"
   ]
  },
  {
   "cell_type": "code",
   "execution_count": null,
   "metadata": {},
   "outputs": [],
   "source": [
    "gmaps.figure()\n",
    "new_york_coordinates = (a1, a2)\n",
    "gmaps.figure(center=new_york_coordinates, zoom_level=12)"
   ]
  },
  {
   "cell_type": "markdown",
   "metadata": {},
   "source": [
    "### Next:\n",
    "\n",
    "Get the coordinates for UCLA and plot it\n",
    "\n",
    "Useful: https://www.latlong.net/convert-address-to-lat-long.html"
   ]
  },
  {
   "cell_type": "code",
   "execution_count": null,
   "metadata": {},
   "outputs": [],
   "source": [
    "a1 = \n",
    "a2 = "
   ]
  },
  {
   "cell_type": "code",
   "execution_count": null,
   "metadata": {},
   "outputs": [],
   "source": [
    "gmaps.figure()\n",
    "ucla_coordinates = (a1, a2)\n",
    "gmaps.figure(center=ucla_coordinates, zoom_level=14)"
   ]
  },
  {
   "cell_type": "code",
   "execution_count": null,
   "metadata": {},
   "outputs": [],
   "source": [
    "marker_locations = [\n",
    "(),\n",
    "()\n",
    "]\n",
    "\n",
    "fig = gmaps.figure(center=ucla_coordinates, zoom_level=12)\n",
    "markers = gmaps.marker_layer(marker_locations)\n",
    "fig.add_layer(markers)\n",
    "fig"
   ]
  },
  {
   "cell_type": "code",
   "execution_count": null,
   "metadata": {},
   "outputs": [],
   "source": [
    "ucla = ()\n",
    "point2 = ()\n",
    "\n",
    "fig = gmaps.figure()\n",
    "point2ucla = gmaps.directions_layer(point2, ucla)\n",
    "fig.add_layer(point2ucla)\n",
    "fig"
   ]
  },
  {
   "cell_type": "code",
   "execution_count": null,
   "metadata": {},
   "outputs": [],
   "source": []
  },
  {
   "cell_type": "markdown",
   "metadata": {},
   "source": [
    "# Reference:\n",
    "\n",
    "* [ipyleaflet documentation](https://ipyleaflet.readthedocs.io/en/latest/)\n",
    "* [Using Gmaps with Jupyter](https://jupyter-gmaps.readthedocs.io/en/latest/)"
   ]
  }
 ],
 "metadata": {
  "kernelspec": {
   "display_name": "Python 3",
   "language": "python",
   "name": "python3"
  },
  "language_info": {
   "codemirror_mode": {
    "name": "ipython",
    "version": 3
   },
   "file_extension": ".py",
   "mimetype": "text/x-python",
   "name": "python",
   "nbconvert_exporter": "python",
   "pygments_lexer": "ipython3",
   "version": "3.6.7"
  }
 },
 "nbformat": 4,
 "nbformat_minor": 2
}
